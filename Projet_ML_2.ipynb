{
 "cells": [
  {
   "cell_type": "code",
   "execution_count": 1,
   "id": "a9795bbd",
   "metadata": {},
   "outputs": [],
   "source": [
    "import tensorflow as tf\n",
    "from tensorflow.keras import datasets, layers, models\n",
    "import matplotlib.pyplot as plt\n",
    "import numpy as np"
   ]
  },
  {
   "cell_type": "code",
   "execution_count": 2,
   "id": "9ef93c13",
   "metadata": {},
   "outputs": [
    {
     "data": {
      "text/plain": [
       "(50000, 32, 32, 3)"
      ]
     },
     "execution_count": 2,
     "metadata": {},
     "output_type": "execute_result"
    }
   ],
   "source": [
    "(X_train, y_train), (X_test, y_test) = datasets.cifar10.load_data()\n",
    "\n",
    "X_train.shape\n",
    "# Entrainement image 32 x 32 ; 3 : rgb channels ; 50 000 : nb images train"
   ]
  },
  {
   "cell_type": "code",
   "execution_count": 3,
   "id": "94412a00",
   "metadata": {},
   "outputs": [
    {
     "data": {
      "text/plain": [
       "(10000, 32, 32, 3)"
      ]
     },
     "execution_count": 3,
     "metadata": {},
     "output_type": "execute_result"
    }
   ],
   "source": [
    "X_test.shape\n",
    "# Test image 32 x 32 ; 3 : rgb channels ; 10 000 : nb images test"
   ]
  },
  {
   "cell_type": "code",
   "execution_count": 4,
   "id": "aa5bcef4",
   "metadata": {},
   "outputs": [
    {
     "data": {
      "text/plain": [
       "array([[[ 59,  62,  63],\n",
       "        [ 43,  46,  45],\n",
       "        [ 50,  48,  43],\n",
       "        ...,\n",
       "        [158, 132, 108],\n",
       "        [152, 125, 102],\n",
       "        [148, 124, 103]],\n",
       "\n",
       "       [[ 16,  20,  20],\n",
       "        [  0,   0,   0],\n",
       "        [ 18,   8,   0],\n",
       "        ...,\n",
       "        [123,  88,  55],\n",
       "        [119,  83,  50],\n",
       "        [122,  87,  57]],\n",
       "\n",
       "       [[ 25,  24,  21],\n",
       "        [ 16,   7,   0],\n",
       "        [ 49,  27,   8],\n",
       "        ...,\n",
       "        [118,  84,  50],\n",
       "        [120,  84,  50],\n",
       "        [109,  73,  42]],\n",
       "\n",
       "       ...,\n",
       "\n",
       "       [[208, 170,  96],\n",
       "        [201, 153,  34],\n",
       "        [198, 161,  26],\n",
       "        ...,\n",
       "        [160, 133,  70],\n",
       "        [ 56,  31,   7],\n",
       "        [ 53,  34,  20]],\n",
       "\n",
       "       [[180, 139,  96],\n",
       "        [173, 123,  42],\n",
       "        [186, 144,  30],\n",
       "        ...,\n",
       "        [184, 148,  94],\n",
       "        [ 97,  62,  34],\n",
       "        [ 83,  53,  34]],\n",
       "\n",
       "       [[177, 144, 116],\n",
       "        [168, 129,  94],\n",
       "        [179, 142,  87],\n",
       "        ...,\n",
       "        [216, 184, 140],\n",
       "        [151, 118,  84],\n",
       "        [123,  92,  72]]], dtype=uint8)"
      ]
     },
     "execution_count": 4,
     "metadata": {},
     "output_type": "execute_result"
    }
   ],
   "source": [
    "X_train[0] # 3 dimensional array"
   ]
  },
  {
   "cell_type": "code",
   "execution_count": 11,
   "id": "044467a5",
   "metadata": {},
   "outputs": [
    {
     "data": {
      "text/plain": [
       "array([6, 9, 9, 4, 1], dtype=uint8)"
      ]
     },
     "execution_count": 11,
     "metadata": {},
     "output_type": "execute_result"
    }
   ],
   "source": [
    "#y_train.shape  50 000 sample 1 dimensional array\n",
    "# 6 <-> frog ; 9 <-> truck ; 4 <-> deer ; 1 <-> automobile\n",
    "\n",
    "# 5 premiers éléments y_train[:5]\n",
    "# on remarque que chq élément est imbriqué dans un array exemple :  [[6],[9],...] et non [6,9,...] \n",
    "\n",
    "# il faut pour cela redimensionner via reshape(-1,) pour 1 dim array\n",
    "y_train=y_train.reshape(-1,)\n",
    "\n",
    "y_train[:5]"
   ]
  },
  {
   "cell_type": "code",
   "execution_count": 7,
   "id": "01b64826",
   "metadata": {},
   "outputs": [],
   "source": [
    "# classe 10 éléments 0 à 9\n",
    "classes = [\"airplane\",\"automobile\",\"bird\",\"cat\",\"deer\",\"dog\",\"frog\",\"horse\",\"ship\",\"truck\"]"
   ]
  },
  {
   "cell_type": "code",
   "execution_count": 12,
   "id": "e34488a8",
   "metadata": {},
   "outputs": [
    {
     "data": {
      "text/plain": [
       "'truck'"
      ]
     },
     "execution_count": 12,
     "metadata": {},
     "output_type": "execute_result"
    }
   ],
   "source": [
    "classes[9]"
   ]
  },
  {
   "cell_type": "code",
   "execution_count": 13,
   "id": "bc2f308b",
   "metadata": {},
   "outputs": [],
   "source": [
    "def plot_sample(X,y, index):\n",
    "# redim taille image\n",
    "    plt.figure(figsize = (15,2))\n",
    "# voir à quoi ressemble une image\n",
    "    plt.imshow(X[index])\n",
    "    plt.xlabel(classes[y[index]])"
   ]
  },
  {
   "cell_type": "code",
   "execution_count": 14,
   "id": "4f30e11a",
   "metadata": {},
   "outputs": [
    {
     "data": {
      "image/png": "[encoded data removed]",
      "text/plain": [
       "<Figure size 1080x144 with 1 Axes>"
      ]
     },
     "metadata": {
      "needs_background": "light"
     },
     "output_type": "display_data"
    }
   ],
   "source": [
    "plot_sample(X_train,y_train,0)\n",
    "\n",
    "# plot_sample(X_train,y_train,1)"
   ]
  },
  {
   "cell_type": "code",
   "execution_count": 16,
   "id": "3dca26f5",
   "metadata": {},
   "outputs": [],
   "source": [
    "# Normalizer data\n",
    "X_train = X_train/255\n",
    "X_test = X_test/255"
   ]
  },
  {
   "cell_type": "code",
   "execution_count": 17,
   "id": "539fc7c5",
   "metadata": {},
   "outputs": [
    {
     "name": "stdout",
     "output_type": "stream",
     "text": [
      "Epoch 1/5\n",
      "1563/1563 [==============================] - 162s 103ms/step - loss: 1.8144 - accuracy: 0.3555\n",
      "Epoch 2/5\n",
      "1563/1563 [==============================] - 154s 98ms/step - loss: 1.6249 - accuracy: 0.4277\n",
      "Epoch 3/5\n",
      "1563/1563 [==============================] - 154s 99ms/step - loss: 1.5422 - accuracy: 0.4550\n",
      "Epoch 4/5\n",
      "1563/1563 [==============================] - 145s 93ms/step - loss: 1.4784 - accuracy: 0.4783\n",
      "Epoch 5/5\n",
      "1563/1563 [==============================] - 143s 92ms/step - loss: 1.4320 - accuracy: 0.4959s - loss: 1.4317 - accura\n"
     ]
    },
    {
     "data": {
      "text/plain": [
       "<keras.callbacks.History at 0x274c3f73fd0>"
      ]
     },
     "execution_count": 17,
     "metadata": {},
     "output_type": "execute_result"
    }
   ],
   "source": [
    "# Construisons le modèle\n",
    "\n",
    "# input image 32 x 32 x 3\n",
    "#  2 deep layers : 1rst deep layer with 3000 neurons, 2nd deep layer 1000 neurons avc fct relu\n",
    "# Last layer : 10 neurons avec fct sigmoid <-> 10 categories de notre classes 'classes'\n",
    "\n",
    "# sigmoïd <-> s(z_k) = 1/ (1+ e^(-z_k))\n",
    "\n",
    "ann = models.Sequential(\n",
    "[\n",
    "    layers.Flatten(input_shape= (32,32,3)),\n",
    "    layers.Dense(3000,activation='relu'),\n",
    "    layers.Dense(1000,activation='relu'),\n",
    "    layers.Dense(10,activation='sigmoid')\n",
    "])\n",
    "\n",
    "# SGD <-> Gradient stochastique  ;   fct de perte = entropie croisée parsemé par catégorie\n",
    "# Mesure <-> precision\n",
    "\n",
    "ann.compile(optimizer='SGD',\n",
    "            loss='sparse_categorical_crossentropy',\n",
    "            metrics=['accuracy'])\n",
    "\n",
    "# on entraine les neurons\n",
    "ann.fit(X_train,y_train, epochs=5)\n",
    "\n",
    "# accuracy faible 49.5% sur samples train ;    loss : 1.4320\n"
   ]
  },
  {
   "cell_type": "code",
   "execution_count": 18,
   "id": "572ed539",
   "metadata": {},
   "outputs": [
    {
     "name": "stdout",
     "output_type": "stream",
     "text": [
      "313/313 [==============================] - 10s 32ms/step - loss: 1.4886 - accuracy: 0.4667\n"
     ]
    },
    {
     "data": {
      "text/plain": [
       "[1.4885586500167847, 0.4666999876499176]"
      ]
     },
     "execution_count": 18,
     "metadata": {},
     "output_type": "execute_result"
    }
   ],
   "source": [
    "# Evaluons notre modèle sur les données test\n",
    "ann.evaluate(X_test, y_test)\n",
    "# accuracy : 46 % => performance mauvaise\n",
    "\n",
    "#ANN : Artificial Neural Network \n",
    "#=> Trop de calcul , traite pixel locaux comme des pixels à  part entière\n",
    "\n",
    "#Grosse image 1920 x 1080 x 3\n",
    "#=> 6 x 10^(6) first layer neurones enormes\n"
   ]
  },
  {
   "cell_type": "code",
   "execution_count": 19,
   "id": "9137c7c6",
   "metadata": {},
   "outputs": [
    {
     "name": "stdout",
     "output_type": "stream",
     "text": [
      "Classfication Report \n",
      "               precision    recall  f1-score   support\n",
      "\n",
      "           0       0.52      0.58      0.55      1000\n",
      "           1       0.78      0.31      0.44      1000\n",
      "           2       0.38      0.40      0.39      1000\n",
      "           3       0.29      0.57      0.38      1000\n",
      "           4       0.47      0.32      0.38      1000\n",
      "           5       0.49      0.19      0.27      1000\n",
      "           6       0.56      0.46      0.51      1000\n",
      "           7       0.47      0.63      0.54      1000\n",
      "           8       0.55      0.68      0.60      1000\n",
      "           9       0.55      0.53      0.54      1000\n",
      "\n",
      "    accuracy                           0.47     10000\n",
      "   macro avg       0.50      0.47      0.46     10000\n",
      "weighted avg       0.50      0.47      0.46     10000\n",
      "\n"
     ]
    }
   ],
   "source": [
    "from sklearn.metrics import confusion_matrix , classification_report\n",
    "import numpy as np\n",
    "y_pred =ann.predict(X_test)\n",
    "y_pred_classes = [np.argmax(element) for element in y_pred]\n",
    "\n",
    "# \n",
    "# Recal = TruePositives / (TruePositives + FalseNegatives)\n",
    "# hausse Recal => minimise faux négatif\n",
    "\n",
    "# Mesure F = (2 * Précision * Rappel) / (Précision + Rappel)\n",
    "# Mesure F ~ 0 => precision + rappel médiocre\n",
    "# Mesure F1 ~ 1 => précision + rappel excellent\n",
    "\n",
    "# Precision = TruePositives / (TruePositives + FalsePositives)\n",
    "# hausse Precision => minimise faux positif\n",
    "\n",
    "# Classification report ANN\n",
    "\n",
    "print(\"Classfication Report \\n\", classification_report( y_test, y_pred_classes))"
   ]
  },
  {
   "cell_type": "code",
   "execution_count": 26,
   "id": "4e778fd8",
   "metadata": {},
   "outputs": [],
   "source": [
    "# CNN <-> Feature Extraction + Classification\n",
    "\n",
    "# Feature Extraction <-> (1) Convolution + Relu (oreille,yeux) -> (2) Pooling  -> (3) Convo + Relu(head,..)\n",
    "# -> (4) Pooling  .. flatten\n",
    "# Classification <-> Is it this category ?\n",
    "\n",
    "# softmax <-> s(k)= e^(z_k)/ sum(e^(z_i),{i=1..n})\n",
    "# relu <-> r(z_k) = max(z_k,0)\n",
    "\n",
    "cnn = models.Sequential(\n",
    "[\n",
    "    #cnn\n",
    "    \n",
    "    # (1) Convolution + Relu\n",
    "    # filters = 32 <=> on peut détecter 32 zones différentes sur l'image\n",
    "    # kernel_size <=> taille du filtre ici 3 x 3\n",
    "    layers.Conv2D(filters=32, kernel_size = (3,3), activation = 'relu', input_shape = (32,32,3)),\n",
    "    \n",
    "    # (2) Pooling ici on choisit MaxPooling\n",
    "    layers.MaxPooling2D((2,2)),\n",
    "    \n",
    "    # (3) + (4)\n",
    "    layers.Conv2D(filters=64,kernel_size = (3,3),activation = 'relu'),\n",
    "    layers.MaxPooling2D((2,2)),\n",
    "    \n",
    "    # dense\n",
    "    layers.Flatten(),\n",
    "    layers.Dense(64,activation='relu'),\n",
    "    layers.Dense(10,activation='softmax')\n",
    "])"
   ]
  },
  {
   "cell_type": "code",
   "execution_count": 27,
   "id": "d108404d",
   "metadata": {},
   "outputs": [],
   "source": [
    "# adam <=> optimization algorithm \n",
    "cnn.compile(optimizer='adam',\n",
    "            loss='sparse_categorical_crossentropy',\n",
    "            metrics=['accuracy'])"
   ]
  },
  {
   "cell_type": "code",
   "execution_count": 28,
   "id": "fc4dee5e",
   "metadata": {},
   "outputs": [
    {
     "name": "stdout",
     "output_type": "stream",
     "text": [
      "Epoch 1/10\n",
      "1563/1563 [==============================] - 90s 57ms/step - loss: 1.4511 - accuracy: 0.48060s - loss:\n",
      "Epoch 2/10\n",
      "1563/1563 [==============================] - 91s 59ms/step - loss: 1.1111 - accuracy: 0.6141\n",
      "Epoch 3/10\n",
      "1563/1563 [==============================] - 91s 58ms/step - loss: 0.9913 - accuracy: 0.6543\n",
      "Epoch 4/10\n",
      "1563/1563 [==============================] - 89s 57ms/step - loss: 0.9063 - accuracy: 0.6874\n",
      "Epoch 5/10\n",
      "1563/1563 [==============================] - 90s 58ms/step - loss: 0.8397 - accuracy: 0.7062\n",
      "Epoch 6/10\n",
      "1563/1563 [==============================] - 90s 58ms/step - loss: 0.7861 - accuracy: 0.7266\n",
      "Epoch 7/10\n",
      "1563/1563 [==============================] - 179s 114ms/step - loss: 0.7360 - accuracy: 0.7423\n",
      "Epoch 8/10\n",
      "1563/1563 [==============================] - 90s 58ms/step - loss: 0.6944 - accuracy: 0.7578\n",
      "Epoch 9/10\n",
      "1563/1563 [==============================] - 91s 58ms/step - loss: 0.6543 - accuracy: 0.77040s - loss: 0\n",
      "Epoch 10/10\n",
      "1563/1563 [==============================] - 131s 84ms/step - loss: 0.6185 - accuracy: 0.7838s - loss: 0.6185 - ac - ETA: 1s - loss: 0\n"
     ]
    },
    {
     "data": {
      "text/plain": [
       "<keras.callbacks.History at 0x274c277d8e0>"
      ]
     },
     "execution_count": 28,
     "metadata": {},
     "output_type": "execute_result"
    }
   ],
   "source": [
    "# Entrainons model cnn\n",
    "cnn.fit(X_train, y_train, epochs = 10)\n",
    "\n",
    "# accuracy  train :  ~ 0.78"
   ]
  },
  {
   "cell_type": "code",
   "execution_count": 29,
   "id": "b78fcd3a",
   "metadata": {},
   "outputs": [
    {
     "name": "stdout",
     "output_type": "stream",
     "text": [
      "313/313 [==============================] - 7s 21ms/step - loss: 0.9218 - accuracy: 0.7072\n"
     ]
    },
    {
     "data": {
      "text/plain": [
       "[0.9218333959579468, 0.7071999907493591]"
      ]
     },
     "execution_count": 29,
     "metadata": {},
     "output_type": "execute_result"
    }
   ],
   "source": [
    "cnn.evaluate(X_test, y_test)\n",
    "# accuracy ~ 70% => bonne précision"
   ]
  },
  {
   "cell_type": "code",
   "execution_count": 30,
   "id": "6455ee0a",
   "metadata": {},
   "outputs": [
    {
     "data": {
      "text/plain": [
       "array([3, 8, 8, 0, 6], dtype=uint8)"
      ]
     },
     "execution_count": 30,
     "metadata": {},
     "output_type": "execute_result"
    }
   ],
   "source": [
    "y_test= y_test.reshape(-1,)\n",
    "y_test[:5]"
   ]
  },
  {
   "cell_type": "code",
   "execution_count": 32,
   "id": "5008c14f",
   "metadata": {},
   "outputs": [
    {
     "data": {
      "text/plain": [
       "array([[4.1849660e-03, 1.4775555e-02, 8.0212456e-05, 6.5124017e-01,\n",
       "        3.3285320e-05, 3.2431921e-01, 2.5378310e-03, 5.9979604e-05,\n",
       "        1.1512998e-03, 1.6174498e-03],\n",
       "       [2.9132082e-03, 6.6864401e-02, 4.1896936e-08, 3.2082914e-07,\n",
       "        1.5040098e-09, 8.5426138e-10, 2.7196764e-10, 6.6308438e-08,\n",
       "        9.3001688e-01, 2.0507674e-04],\n",
       "       [3.9247390e-02, 4.6331063e-01, 4.6473154e-04, 5.0587892e-03,\n",
       "        2.2185368e-04, 9.2929200e-05, 2.2773855e-04, 2.0831318e-03,\n",
       "        4.8145610e-01, 7.8367414e-03],\n",
       "       [9.6078807e-01, 8.7902658e-03, 2.2173161e-02, 5.7508936e-04,\n",
       "        4.0060256e-04, 1.1097030e-05, 7.2915608e-04, 5.8617694e-05,\n",
       "        6.3034417e-03, 1.7055916e-04],\n",
       "       [4.4896292e-06, 1.3122446e-06, 7.6351918e-02, 3.8544808e-02,\n",
       "        2.8183338e-01, 2.7896196e-03, 6.0042173e-01, 9.7365989e-07,\n",
       "        5.1713992e-05, 8.1438756e-08]], dtype=float32)"
      ]
     },
     "execution_count": 32,
     "metadata": {},
     "output_type": "execute_result"
    }
   ],
   "source": [
    "# Prediction model cnn\n",
    "y_pred = cnn.predict(X_test)\n",
    "y_pred[:5]"
   ]
  },
  {
   "cell_type": "code",
   "execution_count": 34,
   "id": "40d549db",
   "metadata": {},
   "outputs": [
    {
     "data": {
      "text/plain": [
       "5"
      ]
     },
     "execution_count": 34,
     "metadata": {},
     "output_type": "execute_result"
    }
   ],
   "source": [
    "np.argmax([12,34,67,1,2,88]) # donne l'index de la cellule où le nb est maximum"
   ]
  },
  {
   "cell_type": "code",
   "execution_count": 35,
   "id": "ef372f2e",
   "metadata": {},
   "outputs": [
    {
     "data": {
      "text/plain": [
       "3"
      ]
     },
     "execution_count": 35,
     "metadata": {},
     "output_type": "execute_result"
    }
   ],
   "source": [
    "np.argmax(y_pred[0])"
   ]
  },
  {
   "cell_type": "code",
   "execution_count": 36,
   "id": "05331c1c",
   "metadata": {},
   "outputs": [],
   "source": [
    "y_classes = [np.argmax(element) for element in y_pred]"
   ]
  },
  {
   "cell_type": "code",
   "execution_count": 37,
   "id": "fca0407d",
   "metadata": {},
   "outputs": [
    {
     "data": {
      "text/plain": [
       "[3, 8, 8, 0, 6, 6, 1, 6, 3, 1, 0, 9, 7, 7, 9]"
      ]
     },
     "execution_count": 37,
     "metadata": {},
     "output_type": "execute_result"
    }
   ],
   "source": [
    "# comparons 15 premières valeurs de y_pred (cnn) avec y_test pour voir ci la prediction s'effectue assez bien\n",
    "y_classes[:15]"
   ]
  },
  {
   "cell_type": "code",
   "execution_count": 38,
   "id": "c4a08821",
   "metadata": {},
   "outputs": [
    {
     "data": {
      "text/plain": [
       "array([3, 8, 8, 0, 6, 6, 1, 6, 3, 1, 0, 9, 5, 7, 9], dtype=uint8)"
      ]
     },
     "execution_count": 38,
     "metadata": {},
     "output_type": "execute_result"
    }
   ],
   "source": [
    "y_test[:15]\n"
   ]
  },
  {
   "cell_type": "code",
   "execution_count": 39,
   "id": "c6129b2d",
   "metadata": {},
   "outputs": [
    {
     "data": {
      "image/png": "[encoded data removed]",
      "text/plain": [
       "<Figure size 1080x144 with 1 Axes>"
      ]
     },
     "metadata": {
      "needs_background": "light"
     },
     "output_type": "display_data"
    }
   ],
   "source": [
    "# visualiser la comparaison  pour voir les difficultés d'apprentissage\n",
    "plot_sample(X_test,y_test,0)"
   ]
  },
  {
   "cell_type": "code",
   "execution_count": 40,
   "id": "395a20f2",
   "metadata": {},
   "outputs": [
    {
     "data": {
      "text/plain": [
       "'cat'"
      ]
     },
     "execution_count": 40,
     "metadata": {},
     "output_type": "execute_result"
    }
   ],
   "source": [
    "classes[y_classes[0]]"
   ]
  },
  {
   "cell_type": "code",
   "execution_count": 41,
   "id": "0fc88407",
   "metadata": {},
   "outputs": [
    {
     "name": "stdout",
     "output_type": "stream",
     "text": [
      "Classification report: \n",
      "               precision    recall  f1-score   support\n",
      "\n",
      "           0       0.71      0.80      0.75      1000\n",
      "           1       0.77      0.85      0.81      1000\n",
      "           2       0.67      0.56      0.61      1000\n",
      "           3       0.59      0.44      0.50      1000\n",
      "           4       0.64      0.67      0.66      1000\n",
      "           5       0.60      0.65      0.62      1000\n",
      "           6       0.79      0.77      0.78      1000\n",
      "           7       0.68      0.80      0.74      1000\n",
      "           8       0.81      0.83      0.82      1000\n",
      "           9       0.80      0.71      0.76      1000\n",
      "\n",
      "    accuracy                           0.71     10000\n",
      "   macro avg       0.71      0.71      0.70     10000\n",
      "weighted avg       0.71      0.71      0.70     10000\n",
      "\n"
     ]
    }
   ],
   "source": [
    "# Classification CNN\n",
    "print(\"Classification report: \\n\", classification_report(y_test, y_classes))"
   ]
  },
  {
   "cell_type": "code",
   "execution_count": null,
   "id": "158693dc",
   "metadata": {},
   "outputs": [],
   "source": [
    "# fine-tuning\n"
   ]
  }
 ],
 "metadata": {
  "kernelspec": {
   "display_name": "Python 3",
   "language": "python",
   "name": "python3"
  },
  "language_info": {
   "codemirror_mode": {
    "name": "ipython",
    "version": 3
   },
   "file_extension": ".py",
   "mimetype": "text/x-python",
   "name": "python",
   "nbconvert_exporter": "python",
   "pygments_lexer": "ipython3",
   "version": "3.8.8"
  }
 },
 "nbformat": 4,
 "nbformat_minor": 5
}
